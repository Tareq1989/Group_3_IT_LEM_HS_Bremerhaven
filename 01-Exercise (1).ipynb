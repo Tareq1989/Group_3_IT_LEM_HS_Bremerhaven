{
 "cells": [
  {
   "cell_type": "markdown",
   "metadata": {},
   "source": [
    "# Exercice 01: (10 pts) \n",
    "\n",
    "The following exercice requires some understanding in the following subjects: \n",
    "- understand the notion of variable and data-types\n",
    "- read the user inputs \n",
    "- understand conditions in python\n",
    "\n"
   ]
  },
  {
   "cell_type": "markdown",
   "metadata": {},
   "source": [
    "## 1. Review: (3 pts)\n",
    "\n",
    "### 1.a. Create two variables `time` and `distance` with the following values \"6.89\" and \"16.7\" . Compute the speed and save it in a variable called `speed` and print then the speed. (1 pt) "
   ]
  },
  {
   "cell_type": "code",
   "execution_count": 9,
   "metadata": {},
   "outputs": [
    {
     "name": "stdout",
     "output_type": "stream",
     "text": [
      "2.423802612481858\n"
     ]
    }
   ],
   "source": [
    "# declare the two variables time and distance\n",
    "# time = 6.89\n",
    "# distance = 16.7\n",
    "time= float(6.89)\n",
    "distance= float(16.7)\n",
    "t= time\n",
    "d= distance\n",
    "speed= d/t\n",
    "print(speed)\n"
   ]
  },
  {
   "cell_type": "markdown",
   "metadata": {},
   "source": [
    "### 1.b. Create a list called `special_lst` with the following values: [12,8,25,13,-11,-2]. Compute the average value of all the value of the list with index and save it to a variable called `avg_special_lst` . (1 pt) \n",
    "\n",
    "N.B: Do not use Loop or function from the python library, we did not see loop yet. Only use index and operations we've already seen. "
   ]
  },
  {
   "cell_type": "code",
   "execution_count": 3,
   "metadata": {},
   "outputs": [
    {
     "name": "stdout",
     "output_type": "stream",
     "text": [
      "6\n",
      "Average is equal to= 7.5\n"
     ]
    }
   ],
   "source": [
    "# create the list and then compute its average value\n",
    "special_lst = [12,8,25,13,-11,-2]\n",
    "print(len(special_lst))\n",
    "avg_special_lst = sum(special_lst)/len(special_lst)\n",
    "print(\"Average is equal to=\" ,avg_special_lst)"
   ]
  },
  {
   "cell_type": "markdown",
   "metadata": {},
   "source": [
    "### 1.c. Given the following variables: (1 pt) \n",
    "```python\n",
    "\n",
    "tiger = 'cat'\n",
    "lion = 'cat'\n",
    "kitty = 'cat'\n",
    "cheetah = 'cat' \n",
    "hyena = 'dog'\n",
    "wolf = 'dog' \n",
    "husky = 'dog'\n",
    "owl = 'bird' \n",
    "piegon = 'bird'\n",
    "duck = 'bird'\n",
    "```\n",
    "\n",
    "Write the following statements in Boolean and print the answer: \n",
    "\n"
   ]
  },
  {
   "cell_type": "code",
   "execution_count": 62,
   "metadata": {},
   "outputs": [
    {
     "name": "stdout",
     "output_type": "stream",
     "text": [
      "True\n",
      "True\n",
      "True True\n",
      "True\n",
      "False\n",
      "False False\n",
      "False\n",
      "False True\n"
     ]
    }
   ],
   "source": [
    "tiger = 'cat'\n",
    "lion = 'cat'\n",
    "kitty = 'cat'\n",
    "cheetah = 'cat' \n",
    "hyena = 'dog'\n",
    "wolf = 'dog' \n",
    "husky = 'dog'\n",
    "owl = 'bird' \n",
    "piegon = 'bird'\n",
    "duck = 'bird'\n",
    "\n",
    "# take this as an example\n",
    "is_tiger_a_cat = (tiger == 'cat') # true\n",
    "\n",
    "# change None into a boolean expression \n",
    "\n",
    "tiger_is_not_a_dog = print(tiger != 'dog')\n",
    "a_duck_is_not_a_cat = print(duck != 'cat')\n",
    "a_piegon_is_neither_a_cat_nor_a_dog = print((piegon != 'cat'),(piegon != 'dog'))\n",
    "a_wolf_is_a_bird = print(wolf == 'dog')\n",
    "a_duck_is_a_piegon = print(duck == 'piegon' )\n",
    "owl_is_a_duck_or_a_cheetah = print((owl == 'duck'),(owl == 'cheetah'))\n",
    "husky_is_a_bird_or_duck_is_a_cat = print((husky == 'bird') or(duck == 'cat'))\n",
    "owl_is_a_duck_and_hyena_is_a_wolf = print((owl == 'duck'),(hyena == wolf))\n"
   ]
  },
  {
   "cell_type": "markdown",
   "metadata": {},
   "source": [
    "## 2. Conditions (7 pts) \n",
    "### 2.a. Ask the user for an input (as Integer), save it to a variable called `user_number` and print if the entered number is an *odd* or an *even* number. (2 pts) \n"
   ]
  },
  {
   "cell_type": "code",
   "execution_count": 75,
   "metadata": {},
   "outputs": [
    {
     "name": "stdin",
     "output_type": "stream",
     "text": [
      "user_number:  6\n"
     ]
    },
    {
     "name": "stdout",
     "output_type": "stream",
     "text": [
      "6 is Even\n"
     ]
    }
   ],
   "source": [
    "# Scenario examples: \n",
    "# user inpt: 3\n",
    "# response: 3 it is an odd number \n",
    "# -----------------------------------\n",
    "# user input: 14\n",
    "# response: 14 is an even number\n",
    "# -----------------------------------\n",
    "\n",
    "# get the user_number\n",
    "user_number = int(input(\"user_number: \"))\n",
    "if (user_number % 2) == 0:\n",
    "    print(\"{0} is Even\".format(user_number))\n",
    "else:\n",
    "    print(\"{0} is odd\".format(user_number))\n",
    "# check if user_number is even.\n",
    "\n"
   ]
  },
  {
   "cell_type": "markdown",
   "metadata": {},
   "source": [
    "### 2.b. Ask the user for 3 integer inputs `val_1`, `val_2` and `val_3` .  Create also a variable `val_min`. And then whith the help of if (elif, else) statement ,make the variable `val_min`get the *minimum value* of the `val_1` , `val_2` and `val_3` (without using any other method or function, ONLY with IF and ELIF) (2 pts) "
   ]
  },
  {
   "cell_type": "code",
   "execution_count": 113,
   "metadata": {},
   "outputs": [
    {
     "name": "stdin",
     "output_type": "stream",
     "text": [
      "please write the first number:  7\n",
      "please write the second number:  888\n",
      "please write the third number:  36\n"
     ]
    },
    {
     "name": "stdout",
     "output_type": "stream",
     "text": [
      "the minimum number is  7\n",
      "None\n"
     ]
    }
   ],
   "source": [
    "# for example ilf val_1 = 3, val_2 = 4 and val_3 = 7 then val_min shoud be 3\n",
    "def val_min (val_1,val_2,val_3) :\n",
    " if val_1 < val_2 and val_3:\n",
    "        print(\"the minimum number is \", val_1)\n",
    " elif val_2 < val_3:\n",
    "        print(\"the minimum number is \", val_2)\n",
    " else:\n",
    "        print(\"the minimum number is \", val_3)\n",
    "        \n",
    "val_1 = int(input(\"please write the first number: \"))\n",
    "val_2 = int(input(\"please write the second number: \"))\n",
    "val_3 = int(input(\"please write the third number: \"))\n",
    "\n",
    "print (val_min (val_1,val_2,val_3))\n"
   ]
  },
  {
   "cell_type": "markdown",
   "metadata": {},
   "source": [
    "### 2.b. Ask the user for an input (Integer), save it to a variable called `user_number` and print if the entered number is a negative or a positive number (1 pt) \n"
   ]
  },
  {
   "cell_type": "code",
   "execution_count": 89,
   "metadata": {},
   "outputs": [
    {
     "name": "stdin",
     "output_type": "stream",
     "text": [
      "Enter a number:  -4\n"
     ]
    },
    {
     "name": "stdout",
     "output_type": "stream",
     "text": [
      "Negative number\n"
     ]
    }
   ],
   "source": [
    "# ask for the number \n",
    "#user_number = int(input('Enter a positive or a negative number:'))\n",
    "\n",
    "user_number = int(input(\"Enter a number: \"))\n",
    "if user_number >= 0:\n",
    "   if user_number == 0:\n",
    "       print(\"Zero\")\n",
    "   else:\n",
    "       print(\"Positive number\")\n",
    "else:\n",
    "   print(\"Negative number\")"
   ]
  },
  {
   "cell_type": "markdown",
   "metadata": {},
   "source": [
    "### 2.c. We want to securise a pressurized cabins: (2 pts) \n",
    "The max pressure is : pMax = 2.3, and the max area is aMax = 7.41.\n",
    "Ask the user for the actual pression and area\n",
    "- if both, the area and the pression are higher than the pMax and aMax, then write: \"stop immediately\"\n",
    "- if the pressure is higher than the pMax, then write: \"Please, add more area!\"\n",
    "- if the area is higher the aMax, then write: \"Please, lower the area!\"\n",
    "- else, write: \"everything is fine!\" \n"
   ]
  },
  {
   "cell_type": "code",
   "execution_count": 123,
   "metadata": {},
   "outputs": [
    {
     "name": "stdin",
     "output_type": "stream",
     "text": [
      "please type the pression 2\n",
      "please type the area 9\n"
     ]
    },
    {
     "name": "stdout",
     "output_type": "stream",
     "text": [
      "please, lower the area!\n",
      "None\n"
     ]
    }
   ],
   "source": [
    "# declare the pMax=2.3 and aMax=7.41\n",
    "pMax, aMax = 2.3, 7.41\n",
    "def securise_a_pressurized_cabins (p,a):\n",
    " if p > pMax and a > aMax:\n",
    "  print(\"stop immediately\")\n",
    " elif p > pMax:\n",
    "    print(\"please, add more area!\")\n",
    " elif a > aMax:\n",
    "    print(\"please, lower the area!\")\n",
    " else:\n",
    "    print(\"everything is fine!\")\n",
    "    \n",
    "p = int(input(\"please type the pression\"))\n",
    "a = int(input(\"please type the area\"))\n",
    "\n",
    "\n",
    "print( securise_a_pressurized_cabins (p,a))"
   ]
  },
  {
   "cell_type": "code",
   "execution_count": null,
   "metadata": {},
   "outputs": [],
   "source": []
  }
 ],
 "metadata": {
  "kernelspec": {
   "display_name": "Python 3",
   "language": "python",
   "name": "python3"
  },
  "language_info": {
   "codemirror_mode": {
    "name": "ipython",
    "version": 3
   },
   "file_extension": ".py",
   "mimetype": "text/x-python",
   "name": "python",
   "nbconvert_exporter": "python",
   "pygments_lexer": "ipython3",
   "version": "3.8.8"
  }
 },
 "nbformat": 4,
 "nbformat_minor": 4
}
