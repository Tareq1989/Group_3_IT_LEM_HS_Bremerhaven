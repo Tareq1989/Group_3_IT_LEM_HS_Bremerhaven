{
 "cells": [
  {
   "cell_type": "markdown",
   "metadata": {},
   "source": [
    "# Exercice 1\n",
    "\n",
    "Write a function called **string_to_array** to split a string and convert it into an array of words. The function should take one str argument and does not return anything, just print the array of words. \n",
    "\n",
    "For example:\n",
    "\n",
    "```python\n",
    "\"Robin Singh\" should return [\"Robin\", \"Singh\"]\n",
    "\n",
    "\"I love arrays they are my favorite\" should return [\"I\", \"love\", \"arrays\", \"they\", \"are\", \"my\", \"favorite\"]\n",
    "```\n",
    "\n",
    "### check your answer with the following strings \n",
    "\n",
    "`\n",
    "string_to_array(\"Robin Singh\") should print [\"Robin\", \"Singh\"])\n",
    "string_to_array(\"CodeWars\") should print [\"CodeWars\"]\n",
    "string_to_array(\"I love arrays they are my favorite\") should print [\"I\", \"love\", \"arrays\", \"they\", \"are\", \"my\", \"favorite\"]\n",
    "string_to_array(\"1 2 3\") should print [\"1\", \"2\", \"3\"]\n",
    "string_to_array(\"\") should print [\"\"]\n",
    "`"
   ]
  },
  {
   "cell_type": "code",
   "execution_count": 51,
   "metadata": {},
   "outputs": [],
   "source": [
    "def string_to_array(text):\n",
    "   return text.split(\"\")\n"
   ]
  },
  {
   "cell_type": "code",
   "execution_count": 52,
   "metadata": {},
   "outputs": [
    {
     "ename": "ValueError",
     "evalue": "empty separator",
     "output_type": "error",
     "traceback": [
      "\u001b[1;31m---------------------------------------------------------------------------\u001b[0m",
      "\u001b[1;31mValueError\u001b[0m                                Traceback (most recent call last)",
      "\u001b[1;32m<ipython-input-52-933ddbd263e0>\u001b[0m in \u001b[0;36m<module>\u001b[1;34m\u001b[0m\n\u001b[1;32m----> 1\u001b[1;33m \u001b[0mstring_to_array\u001b[0m\u001b[1;33m(\u001b[0m\u001b[1;34m\"1 2 3\"\u001b[0m\u001b[1;33m)\u001b[0m\u001b[1;33m\u001b[0m\u001b[1;33m\u001b[0m\u001b[0m\n\u001b[0m",
      "\u001b[1;32m<ipython-input-51-a845d1c7a383>\u001b[0m in \u001b[0;36mstring_to_array\u001b[1;34m(text)\u001b[0m\n\u001b[0;32m      1\u001b[0m \u001b[1;32mdef\u001b[0m \u001b[0mstring_to_array\u001b[0m\u001b[1;33m(\u001b[0m\u001b[0mtext\u001b[0m\u001b[1;33m)\u001b[0m\u001b[1;33m:\u001b[0m\u001b[1;33m\u001b[0m\u001b[1;33m\u001b[0m\u001b[0m\n\u001b[1;32m----> 2\u001b[1;33m    \u001b[1;32mreturn\u001b[0m \u001b[0mtext\u001b[0m\u001b[1;33m.\u001b[0m\u001b[0msplit\u001b[0m\u001b[1;33m(\u001b[0m\u001b[1;34m\"\"\u001b[0m\u001b[1;33m)\u001b[0m\u001b[1;33m\u001b[0m\u001b[1;33m\u001b[0m\u001b[0m\n\u001b[0m",
      "\u001b[1;31mValueError\u001b[0m: empty separator"
     ]
    }
   ],
   "source": [
    "string_to_array(\"1 2 3\")"
   ]
  },
  {
   "cell_type": "markdown",
   "metadata": {},
   "source": [
    "# Exercice 2: \n",
    "\n",
    "Usually when you buy something, you're asked whether your credit card number, phone number or answer to your most secret question is still correct. However, since someone could look over your shoulder, you don't want that shown on your screen. Instead, we mask it.\n",
    "\n",
    "Your task is to write a function called **maskify**, which changes all but the last four characters into '#' and return the value as a string (str).\n",
    "\n",
    "Output example: \n",
    "\"What was the name of your first pet?\"\n",
    "\n",
    "```python \n",
    "maskify(\"Skippy\")                                   == \"##ippy\"\n",
    "maskify(\"Nananananananananananananananana Batman!\") == \"####################################man!\"\n",
    "```\n",
    "\n",
    "### check your answer with the following strings \n",
    "```python \n",
    "maskify(\"4556364607935616\") == \"############5616\"\n",
    "maskify(     \"64607935616\") ==      \"#######5616\"\n",
    "maskify(               \"1\") ==                \"1\"\n",
    "maskify(                \"\") ==                 \"\"\n",
    "```\n",
    "\n"
   ]
  },
  {
   "cell_type": "code",
   "execution_count": 18,
   "metadata": {},
   "outputs": [],
   "source": [
    "def maskify(text):\n",
    "    maskified = \"\"\n",
    "    if len(text)<4:\n",
    "        return text\n",
    "\n",
    "    for i in range(0,len(text)-4):\n",
    "        maskified += \"#\"\n",
    "\n",
    "    maskified += text[-4:]\n",
    "    return (maskified)"
   ]
  },
  {
   "cell_type": "code",
   "execution_count": 19,
   "metadata": {},
   "outputs": [
    {
     "name": "stdout",
     "output_type": "stream",
     "text": [
      "#####4555\n"
     ]
    }
   ],
   "source": [
    "code = \"455544555\"\n",
    "res = maskify(code)\n",
    "print(res)"
   ]
  },
  {
   "cell_type": "markdown",
   "metadata": {},
   "source": [
    "# Exercice 3\n",
    "Your task is to create a function that does four basic mathematical operations.\n",
    "\n",
    "The function should take three arguments - \n",
    "\n",
    "operation(string/char), \n",
    "\n",
    "value1(number), \n",
    "\n",
    "value2(number).\n",
    "\n",
    "The function should return result of numbers after applying the chosen operation.\n",
    "\n",
    "Examples\n",
    "```python\n",
    "basic_op('+', 4, 7)         # Output: 11\n",
    "basic_op('-', 15, 18)       # Output: -3\n",
    "basic_op('*', 5, 5)         # Output: 25\n",
    "basic_op('/', 49, 7)        # Output: 7\n",
    "```"
   ]
  },
  {
   "cell_type": "code",
   "execution_count": 16,
   "metadata": {},
   "outputs": [],
   "source": [
    "def basic_op(operation,value1,value2):\n",
    "    if operation== \"*\" :\n",
    "        return (value1 * value2)\n",
    "\n",
    "    elif operation== \"/\" :\n",
    "        return (value1/value2)\n",
    "\n",
    "    elif operation== \"-\" :\n",
    "        return (value1-value2)\n",
    "\n",
    "    elif operation == \"+\" :\n",
    "        return (value1+value2)"
   ]
  },
  {
   "cell_type": "code",
   "execution_count": 17,
   "metadata": {},
   "outputs": [
    {
     "name": "stdout",
     "output_type": "stream",
     "text": [
      "6\n"
     ]
    }
   ],
   "source": [
    "res =basic_op(\"*\",3,2)\n",
    "print(res)"
   ]
  },
  {
   "cell_type": "markdown",
   "metadata": {},
   "source": [
    "# Exercice 4\n",
    "Who remembers back to their time in the schoolyard, when you would take a flower and tear its petals, saying each of the following phrases each time a petal was torn:\n",
    "\n",
    "`\n",
    "I like you\n",
    "a little\n",
    "a lot\n",
    "passionately\n",
    "madly\n",
    "not at all\n",
    "`\n",
    "\n",
    "When the last petal was torn there were cries of excitement, dreams, surging thoughts and emotions.\n",
    "\n",
    "\n",
    "Your goal is to determine which phrase you would say for a flower of a given number of petals, where **nb_petals > 0**.\n",
    "\n",
    "Examples: \n",
    "\n",
    "```python\n",
    "how_much_i_like_you(7)         # Output: \"I like you\"\n",
    "how_much_i_like_you(2)         # Output: \"a little\"\n",
    "how_much_i_like_you(5)         # Output: \"madly\"\n",
    "how_much_i_like_you(9)         # Output: \"a lot\"\n",
    "```\n",
    "\n"
   ]
  },
  {
   "cell_type": "code",
   "execution_count": 29,
   "metadata": {},
   "outputs": [],
   "source": [
    "def how_much_i_like_you(num):\n",
    "    meaning = [\"I like you\",\"a little\",\"a lot\",\"passionatly\",\"madly\",\"not at all\"]\n",
    "    i = (num % 6)-1\n",
    "    return meaning[i]\n"
   ]
  },
  {
   "cell_type": "code",
   "execution_count": 30,
   "metadata": {},
   "outputs": [
    {
     "name": "stdout",
     "output_type": "stream",
     "text": [
      "madly\n",
      "I like you\n"
     ]
    }
   ],
   "source": [
    "res = how_much_i_like_you(5)\n",
    "print(res)\n",
    "res = how_much_i_like_you(7)\n",
    "print(res)"
   ]
  },
  {
   "cell_type": "markdown",
   "metadata": {},
   "source": [
    "# Exercice 5 (slicing)\n",
    "You are going to be given an array of integers. Your job is to take that array and find an index N where the sum of the integers to the left of N is equal to the sum of the integers to the right of N. If there is no index that would make this happen, return -1.\n",
    "\n",
    "For example:\n",
    "\n",
    "Let's say you are given the array {1,2,3,4,3,2,1}:\n",
    "Your function will return the index 3, because at the 3rd position of the array, the sum of left side of the index ({1,2,3}) and the sum of the right side of the index ({3,2,1}) both equal 6.\n",
    "\n",
    "Let's look at another one.\n",
    "You are given the array {1,100,50,-51,1,1}:\n",
    "Your function will return the index 1, because at the 1st position of the array, the sum of left side of the index ({1}) and the sum of the right side of the index ({50,-51,1,1}) both equal 1.\n",
    "\n",
    "Last one:\n",
    "You are given the array {20,10,-80,10,10,15,35}\n",
    "At index 0 the left side is {}\n",
    "The right side is {10,-80,10,10,15,35}\n",
    "They both are equal to 0 when added. (Empty arrays are equal to 0 in this problem)\n",
    "Index 0 is the place where the left side and right side are equal.\n",
    "\n",
    "Note: Please remember that in python the index of an array starts at 0.\n",
    "\n",
    "Input:\n",
    "An integer array of length 0 < arr < 1000. The numbers in the array can be any integer positive or negative.\n",
    "\n",
    "Output:\n",
    "The lowest index N where the side to the left of N is equal to the side to the right of N. If you do not find an index that fits these rules, then you will return -1.\n",
    "\n",
    "Note:\n",
    "If you are given an array with multiple answers, return the lowest correct index.\n",
    "\n",
    "Check your answer with the following arrays\n",
    "\n",
    "`\n",
    "find_even_index([1,2,3,4,3,2,1]) should return 3\n",
    "find_even_index([1,100,50,-51,1,1]) should return 1\n",
    "find_even_index([1,2,3,4,5,6]) should return -1\n",
    "find_even_index([20,10,30,10,10,15,35]) should return 3\n",
    "find_even_index([20,10,-80,10,10,15,35]) should return 0\n",
    "find_even_index([10,-80,10,10,15,35,20]) should return 6\n",
    "find_even_index(range(1,100)) should return -1\n",
    "find_even_index([-1,-2,-3,-4,-3,-2,-1]) should return 3\n",
    "find_even_index(range(-100,-1)) should return -1\n",
    "find_even_index([0,0,0,0,0]) should return 0 because it Should pick the first index if more cases are valid\n",
    "`"
   ]
  },
  {
   "cell_type": "code",
   "execution_count": 39,
   "metadata": {},
   "outputs": [],
   "source": [
    "def find_even_index(array):\n",
    "    j = -1\n",
    "    k = 1\n",
    "    for i in range(0,len(array)):\n",
    "        j = j+1\n",
    "        k = i+1\n",
    "        left_side = array[:j]\n",
    "        right_side = array[k:]\n",
    "        sum_left = 0\n",
    "        sum_right = 0\n",
    "        for n in left_side:\n",
    "            sum_left = sum_left+n\n",
    "        for m in right_side:\n",
    "            sum_right = sum_right+m\n",
    "        if sum_right == sum_left:\n",
    "            return j\n",
    "    return -1"
   ]
  },
  {
   "cell_type": "code",
   "execution_count": 50,
   "metadata": {},
   "outputs": [
    {
     "data": {
      "text/plain": [
       "0"
      ]
     },
     "execution_count": 50,
     "metadata": {},
     "output_type": "execute_result"
    }
   ],
   "source": [
    "find_even_index([0,0,0,0,0])"
   ]
  },
  {
   "cell_type": "markdown",
   "metadata": {},
   "source": [
    "# Exercice 6 \n",
    "You are given an input string.\n",
    "\n",
    "For each symbol in the string if it's the first character occurence, replace it with a '1', else replace it with the amount of times you've already seen it...\n",
    "\n",
    "Examples: \n",
    "\n",
    "```python\n",
    "input   =  \"Hello, World!\"\n",
    "result  =  \"1112111121311\"\n",
    "\n",
    "input   =  \"aaaaaaaaaaaa\"\n",
    "result  =  \"123456789101112\"\n",
    "```\n",
    "\n",
    "Test your code with the following strings\n",
    "\n",
    "`\n",
    "numericals(\"Hello, World!\")  should return  \"1112111121311\"\n",
    "numericals(\"Hello, World! It's me, JomoPipi!\") should return \"11121111213112111131224132411122\"\n",
    "numericals(\"hello hello\") should return  \"11121122342\"\n",
    "numericals(\"Hello\") should return \"11121\"\n",
    "numericals(\"aaaaaaaaaaaa\") should return \"123456789101112\"\n",
    "`"
   ]
  },
  {
   "cell_type": "code",
   "execution_count": null,
   "metadata": {},
   "outputs": [],
   "source": [
    "def numericals(text):\n",
    "    chars = {}\n",
    "    numeric = \"\"\n",
    "    for i in text:\n",
    "        if i in chars:\n",
    "            chars[i] = chars[i] +1\n",
    "        else:\n",
    "            chars[i] = 1\n",
    "\n",
    "        numeric = numeric + f\"{chars[i]}\"\n",
    "\n",
    "    return (numeric)"
   ]
  },
  {
   "cell_type": "code",
   "execution_count": 49,
   "metadata": {},
   "outputs": [
    {
     "data": {
      "text/plain": [
       "'123456789101112'"
      ]
     },
     "execution_count": 49,
     "metadata": {},
     "output_type": "execute_result"
    }
   ],
   "source": [
    "numericals(\"aaaaaaaaaaaa\")"
   ]
  },
  {
   "cell_type": "markdown",
   "metadata": {},
   "source": [
    "# Exercice 7 \n",
    "\n",
    "Write a function called 'solve'. It shoud take two arrays of string and return the number of times each string of the second array appears in the first array.\n",
    "\n",
    "Example\n",
    "\n",
    "array1 = ['abc', 'abc', 'xyz', 'cde', 'uvw']\n",
    "\n",
    "array2 = ['abc', 'cde', 'uap']\n",
    "\n",
    "How many times do the elements in array2 appear in array1?\n",
    "\n",
    "\n",
    "'abc' appears twice in the first array (2)\n",
    "\n",
    "'cde' appears only once (1)\n",
    "\n",
    "'uap' does not appear in the first array (0)\n",
    "\n",
    "Therefore, solve(array1, array2) = [2, 1, 0]\n",
    "\n"
   ]
  },
  {
   "cell_type": "code",
   "execution_count": 41,
   "metadata": {},
   "outputs": [],
   "source": [
    "# your code here\n",
    "def solve(array1,array2):\n",
    "    frequency = []\n",
    "    for i in range(0,len(array2)):\n",
    "        frequency.append(0)\n",
    "        for j in range(0,len(array1)):\n",
    "            if array2[i] == array1[j]:\n",
    "                frequency[i]+=1\n",
    "\n",
    "    return frequency\n"
   ]
  },
  {
   "cell_type": "code",
   "execution_count": 42,
   "metadata": {},
   "outputs": [
    {
     "data": {
      "text/plain": [
       "[2, 1, 0]"
      ]
     },
     "execution_count": 42,
     "metadata": {},
     "output_type": "execute_result"
    }
   ],
   "source": [
    "\n",
    "solve(['abc', 'abc','xyz','abcd','cde'], ['abc', 'cde', 'uap']) \n"
   ]
  },
  {
   "cell_type": "code",
   "execution_count": null,
   "metadata": {},
   "outputs": [],
   "source": []
  }
 ],
 "metadata": {
  "kernelspec": {
   "display_name": "Python 3",
   "language": "python",
   "name": "python3"
  },
  "language_info": {
   "codemirror_mode": {
    "name": "ipython",
    "version": 3
   },
   "file_extension": ".py",
   "mimetype": "text/x-python",
   "name": "python",
   "nbconvert_exporter": "python",
   "pygments_lexer": "ipython3",
   "version": "3.8.8"
  }
 },
 "nbformat": 4,
 "nbformat_minor": 4
}
