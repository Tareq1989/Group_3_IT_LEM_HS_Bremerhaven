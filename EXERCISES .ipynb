{
 "cells": [
  {
   "cell_type": "markdown",
   "metadata": {},
   "source": [
    "# Introduction to Regular Expression \n",
    "**Regular Expression** or **regex**  is a sequence of characters that define a search pattern. Usually such patterns are used by string searching algorithms for \"find\" or \"find and replace\" operations on strings, or for input validation. It is a technique developed in theoretical computer science and formal language theory (see. [wiki](https://en.wikipedia.org/wiki/Regular_expression) for more). \n",
    "\n",
    "Regular expressions are used overall in the IT-Field. But because we are already familiar with `python`, we are going to learn it in practice with python. \n"
   ]
  },
  {
   "cell_type": "markdown",
   "metadata": {},
   "source": [
    "## Specify a pattern of text to search for you: \n",
    "Let's start with an example. Let's say you want to identify a phone number by its pattern. You don't know exaclty what all the possibles number is but you know it will be three digits, followed by a minus, and then four more digits (and optionally, a three-digit area code at the start). \n",
    "\n",
    "Example: \n",
    "`015-445-1234` is a phone number \n",
    "`6.849.8789.4.23`is not a phone number \n",
    "\n",
    "It is very usefull and essential for text searching but also for programming. \n",
    "\n",
    "### 1. The traditional way: \n",
    "\n",
    "So let's do some exercice and try to find a phone number in a string. You know the pattern already: three numbers, a minus, trhee numbers, and four numbers. (another example: `015-150-4789`. \n",
    "\n",
    "Lets's write a function called `is_phone_number()`. The function should take a text as an argument and return a boolean `True` if the text is a valid phone number and `False` if it's not a valid phone number: \n",
    "\n"
   ]
  },
  {
   "cell_type": "code",
   "execution_count": 8,
   "metadata": {},
   "outputs": [],
   "source": [
    "# i = 5\n",
    "# i.isdecimal() # will return true because 5 is decimal. \n",
    "\n",
    "def is_phone_number(text): \n",
    "    if len(text) != 12: \n",
    "        return False\n",
    "    for i in range(0,3):\n",
    "        if not text[i].isdecimal():\n",
    "            return False\n",
    "    if text[3] != '-':\n",
    "        return False\n",
    "    for i in range(4,7):\n",
    "        if not text[i].isdecimal():\n",
    "            return False\n",
    "    if text[7] != '-':\n",
    "        return False\n",
    "    for i in range (8,12):\n",
    "        if not text[i].isdecimal():\n",
    "            return False\n",
    "    return True\n"
   ]
  },
  {
   "cell_type": "code",
   "execution_count": 9,
   "metadata": {},
   "outputs": [
    {
     "name": "stdout",
     "output_type": "stream",
     "text": [
      "True\n",
      "True\n",
      "False\n",
      "False\n",
      "False\n",
      "False\n"
     ]
    }
   ],
   "source": [
    "print(is_phone_number(\"015-150-4789\"))\n",
    "print(is_phone_number(\"154-000-8897\"))\n",
    "print(is_phone_number(\"154-123-abcd\"))\n",
    "print(is_phone_number(\"Hallo Aina!!\"))\n",
    "print(is_phone_number(\"000\"))\n",
    "print(is_phone_number(\"hahaha\"))"
   ]
  },
  {
   "cell_type": "markdown",
   "metadata": {},
   "source": [
    "Now try to use our function to check the two phone numbers in the following text? , how would you do it? \n",
    "\n",
    "`\n",
    "message = \"Call me at 415-555-1011 (home) tomorrow. My office number is 415-555-9999!\"\n",
    "`\n",
    "\n"
   ]
  },
  {
   "cell_type": "code",
   "execution_count": 11,
   "metadata": {},
   "outputs": [
    {
     "name": "stdout",
     "output_type": "stream",
     "text": [
      "Phone number recognized: 021-636-2906\n",
      "Phone number recognized: 021-666-4569\n",
      "Done\n"
     ]
    }
   ],
   "source": [
    "message = \"Call me at 021-636-2906 (home) tomorrow. My office number is 021-666-4569!\"\n",
    "\n",
    "# your code here \n",
    "for i in range(len(message)):\n",
    "    part = message[i:i+12]\n",
    "    # print(part)\n",
    "    if is_phone_number(part):\n",
    "        print(\"Phone number recognized: {}\".format(part))\n",
    "print(\"Done\")"
   ]
  },
  {
   "cell_type": "markdown",
   "metadata": {
    "tags": []
   },
   "source": [
    "### Let's try with a pattern: \n",
    "Our previous phone number matching works but it uses a lot of code for a minimal matching. What if we want also to match numbers like `(049) 0421-4778-99` or `+49.489.889.12`. You would add more code for those additional patterns and it will be a lot of code. \n",
    "\n",
    "As already mentioned above **regex** are descriptions for a pattern of text. a `\\d` in a regex stands for a digit character, it means for a single numeral from 0 to 9. The regex `\\d\\d\\d-\\d\\d\\d-\\d\\d\\d` is used to match the same text in our `is_phone_number()` function. \n",
    "\n",
    "But they are more powerfull than that. For example, adding a 3 in curly brackets `{3}` after a pattern is equivalent to matching a pattern **three times** . So we can write our version like `\\d{3}-\\d{3}-\\d{4}` . "
   ]
  },
  {
   "cell_type": "markdown",
   "metadata": {},
   "source": [
    "### Regex in python\n",
    "In python, all regex functions are in the `re` module. We can import it with `import re` . \n",
    "\n",
    "P.S: Backslash are used in python to escape character. But in regex like `\\d`, it represent a digit. `\\n` represent a new line but if we want to print `\\n` as we see it, we have to preceed it with another backslash like `\\\\n` **or** preceed it with an `r` like in the 4th line of our example. \n",
    "\n"
   ]
  },
  {
   "cell_type": "code",
   "execution_count": 12,
   "metadata": {},
   "outputs": [
    {
     "name": "stdout",
     "output_type": "stream",
     "text": [
      "Hallo \n",
      "\n",
      "Hallo \\n\n",
      "Hallo \\n\n",
      "Hallo \\n\n"
     ]
    }
   ],
   "source": [
    "print(\"Hallo \\n\")\n",
    "print(\"Hallo \\\\n\")\n",
    "print(r\"Hallo \\n\")\n",
    "print(r'Hallo \\n') # note the r before the string. "
   ]
  },
  {
   "cell_type": "markdown",
   "metadata": {},
   "source": [
    "To create a regex object, we just have to call `re.compile()` and pass our **regex pattern** in the `compile` function. It will return a regex object. \n",
    "\n",
    "Now that we have our object, we can use the methods that it provides. Let's start with the method `search()` . The method `search()`take a string as an input and return `None` if it doesn't find any match. If there is a match, it will return the mathing **object**. The **Match** object have a `group()`  (explained later) mehtod that will return the actual matched text from the searched string.   "
   ]
  },
  {
   "cell_type": "code",
   "execution_count": 21,
   "metadata": {},
   "outputs": [
    {
     "name": "stdout",
     "output_type": "stream",
     "text": [
      "123-456-7890\n"
     ]
    }
   ],
   "source": [
    "# import the regular expression module\n",
    "import re \n",
    "\n",
    "# create our regular expression object with re.compile()\n",
    "phoneNbRegex = re.compile(r\"\\d\\d\\d-\\d\\d\\d-\\d\\d\\d\\d\") # alternative?\n",
    "phoneNbRegex2 = re.compile(r\"\\d{3}-\\d{3}-\\d{4}\")\n",
    "\n",
    "\n",
    "# use our method search with our string. We will receive a MatchObject if there is a match\n",
    "matchObject = phoneNbRegex2.search(\"I am a phone number 123-456-7890 dfaldifs\")\n",
    "\n",
    "# check our result \n",
    "try:\n",
    "    print(matchObject.group())\n",
    "except: \n",
    "    print(\"Error\")"
   ]
  },
  {
   "cell_type": "markdown",
   "metadata": {},
   "source": [
    "#### Regex in python (steps): \n",
    "1. import the regex module with `import re`\n",
    "2. create a regex object with `re.compile()` . (use raw string) \n",
    "3. pass the string you want to search into the Regex object's `search()` method. This returns a Match object. \n",
    "4. Call the Match object's `group()` method to return a string of the actual matched text.  "
   ]
  },
  {
   "cell_type": "markdown",
   "metadata": {},
   "source": [
    "# More pattern matching with Regex \n",
    "\n",
    "Now that you understand the basics of the pattern, we can now learn the really power of pattern-matching. Remember, you also can use it in text editor like word, excel, notepad etc... \n",
    "\n",
    "## Grouping with Parentheses (remember `group()` ? ) \n",
    "\n",
    "Say you want to separate the first part of the phone number with the rest. Adding a parentheses will create groups in the regex. After that, you can use the `group()` method to grab the matching text from just one group. "
   ]
  },
  {
   "cell_type": "code",
   "execution_count": 26,
   "metadata": {},
   "outputs": [
    {
     "name": "stdout",
     "output_type": "stream",
     "text": [
      "123-456-7890\n",
      "123\n",
      "456-7890\n",
      "123-456-7890\n"
     ]
    }
   ],
   "source": [
    "import re \n",
    "\n",
    "phoneNbRegex = re.compile(r\"(\\d\\d\\d)-(\\d\\d\\d-\\d\\d\\d\\d)\") # alternative ? \n",
    "# phoneNbRegex = re.compile(r\"(\\d{3})-(\\d{3})-(\\d{4})\")\n",
    "\n",
    "\n",
    "# use our method search with our string. We will receive a MatchObject if there is a match\n",
    "matchObject = phoneNbRegex.search(\"123-456-7890\")\n",
    "\n",
    "# check our result \n",
    "print(matchObject.group())\n",
    "print(matchObject.group(1))\n",
    "print(matchObject.group(2))\n",
    "print(matchObject.group(0))"
   ]
  },
  {
   "cell_type": "code",
   "execution_count": 31,
   "metadata": {},
   "outputs": [
    {
     "name": "stdout",
     "output_type": "stream",
     "text": [
      "123-456-7890\n",
      "123\n",
      "456\n",
      "7890\n"
     ]
    }
   ],
   "source": [
    "# Try to make three groups from the number (separated with dash)\n",
    "import re\n",
    "\n",
    "phoneNbRegex3Groups = re.compile(r\"(\\d\\d\\d)-(\\d\\d\\d)-(\\d\\d\\d\\d)\")\n",
    "matchObject3Groups = phoneNbRegex3Groups.search(\"123-456-7890\")\n",
    "# check our result \n",
    "print(matchObject3Groups.group())\n",
    "print(matchObject3Groups.group(1))\n",
    "print(matchObject3Groups.group(2))\n",
    "print(matchObject3Groups.group(3))\n"
   ]
  },
  {
   "cell_type": "markdown",
   "metadata": {},
   "source": [
    "The method `groups()` allows you to retrieve all the groups in one line: \n"
   ]
  },
  {
   "cell_type": "code",
   "execution_count": 27,
   "metadata": {},
   "outputs": [
    {
     "name": "stdout",
     "output_type": "stream",
     "text": [
      "123\n",
      "456-7890\n"
     ]
    }
   ],
   "source": [
    "part1, part2 = matchObject.groups()\n",
    "\n",
    "print(part1)\n",
    "print(part2)"
   ]
  },
  {
   "cell_type": "code",
   "execution_count": 32,
   "metadata": {},
   "outputs": [
    {
     "name": "stdout",
     "output_type": "stream",
     "text": [
      "123\n",
      "456\n",
      "7890\n"
     ]
    }
   ],
   "source": [
    "group1, group2, group3 = matchObject3Groups.groups()\n",
    "\n",
    "print(group1)\n",
    "print(group2)\n",
    "print(group3)"
   ]
  },
  {
   "cell_type": "markdown",
   "metadata": {},
   "source": [
    "**Parentheses?**. As you might have expected, you have to escape the parentheses with `\\(` and `\\)`  if you want to add them in your pattern. "
   ]
  },
  {
   "cell_type": "code",
   "execution_count": 33,
   "metadata": {},
   "outputs": [
    {
     "name": "stdout",
     "output_type": "stream",
     "text": [
      "(123)\n",
      "456\n",
      "(123)-456-7890\n"
     ]
    }
   ],
   "source": [
    "import re \n",
    "\n",
    "# phoneNbRegex = re.compile(r\"(\\(\\d\\d\\d\\))-(\\d\\d\\d-\\d\\d\\d\\d)\") # alternative ? \n",
    "phoneNbRegex = re.compile(r\"(\\(\\d{3}\\))-(\\d{3})-(\\d{4})\")\n",
    "\n",
    "# use our method search with our string. We will receive a MatchObject if there is a match\n",
    "matchObject = phoneNbRegex.search(\"(123)-456-7890\")\n",
    "\n",
    "# check our result \n",
    "print(matchObject.group(1))\n",
    "print(matchObject.group(2))\n",
    "print(matchObject.group(0))\n"
   ]
  },
  {
   "cell_type": "code",
   "execution_count": null,
   "metadata": {},
   "outputs": [],
   "source": [
    "# Match your 3 groups with a parenthese also \n",
    "phoneNb = \"(123)-(456)-7890\"\n",
    "\n",
    "# good luck\n"
   ]
  },
  {
   "cell_type": "markdown",
   "metadata": {},
   "source": [
    "## Matching Multiple Groups with the Pipe `|` \n",
    "\n",
    "The `|` character is called a **pipe**. You can use it if you want to match one of many expression. If you use the pattern `r\"Tea|Coffee\"` for example, it will match either **Tea** or **Coffee** . \n",
    "Example: "
   ]
  },
  {
   "cell_type": "code",
   "execution_count": 35,
   "metadata": {},
   "outputs": [
    {
     "name": "stdout",
     "output_type": "stream",
     "text": [
      "<class 're.Match'>\n",
      "Tea\n"
     ]
    }
   ],
   "source": [
    "import re \n",
    "\n",
    "# sentence = \"If What You Gave Me Last Was Tea, I Want Coffee. If It Was Coffee, I Want Tea.\"\n",
    "#sentence = \"I don't like Coffee.\"\n",
    "sentence = \"I like Coffee.\"\n",
    "\n",
    "#create our object \n",
    "coffeeOrTea = re.compile(r\"Tea|Coffee|Water\") # just like or \n",
    "\n",
    "# get MatchObject\n",
    "mo = coffeeOrTea.search(sentence)\n",
    "\n",
    "print(type(mo)) #As you see, a match object\n",
    "print(mo.group())"
   ]
  },
  {
   "cell_type": "markdown",
   "metadata": {},
   "source": [
    "You can also use *pipe* within your string: "
   ]
  },
  {
   "cell_type": "code",
   "execution_count": 37,
   "metadata": {},
   "outputs": [
    {
     "name": "stdout",
     "output_type": "stream",
     "text": [
      "Wohnaccessoire\n",
      "accessoire\n"
     ]
    }
   ],
   "source": [
    "import re \n",
    "\n",
    "sentence = \"Ich mag meine Wohnung und nicht Wohnaccessoire\"\n",
    "\n",
    "wohnRegex = re.compile(r\"Wohn(mobile|ung|bau|accessoire)\")\n",
    "\n",
    "mo = wohnRegex.search(sentence) \n",
    "\n",
    "print(mo.group(0))\n",
    "print(mo.group(1))\n"
   ]
  },
  {
   "cell_type": "markdown",
   "metadata": {},
   "source": [
    "## Optional Matching with the Question Mark `? `\n",
    "\n",
    "Let's say, we want to validate a phone number that could start with `(+49)`, so both `421-009-8765` and `(+49) 421-009-8765` shoud be valid. We can achieve this with `?`in regex. \n",
    "\n",
    "PS: Again, if you want to match the question mark as it is (raw string), you have to escape it first (with `\\?`) "
   ]
  },
  {
   "cell_type": "code",
   "execution_count": 41,
   "metadata": {},
   "outputs": [
    {
     "name": "stdout",
     "output_type": "stream",
     "text": [
      "421-009-8765\n",
      "421-(017)-009-8765\n"
     ]
    }
   ],
   "source": [
    "import re \n",
    "\n",
    "phone_1 = \"421-009-8765\"\n",
    "phone_2 = \"421-(017)-009-8765\"\n",
    "phone_3 = \"+49 151 4884 9484\"\n",
    "\n",
    "#Note the \n",
    "phoneRegex = re.compile(r\"\\d{3}-(\\(\\d{3}\\)-)?\\d{3}-\\d{4}\")\n",
    "\n",
    "mo1 = phoneRegex.search(phone_1)\n",
    "mo2 = phoneRegex.search(phone_2)\n",
    "\n",
    "print(mo1.group())\n",
    "print(mo2.group())"
   ]
  },
  {
   "cell_type": "code",
   "execution_count": null,
   "metadata": {},
   "outputs": [],
   "source": [
    "# make also the third part optional so that the following phone_nbs are correct \n",
    "phone_1 = \"421-009-8765\"\n",
    "phone_2 = \"421-(017)-009-8765\"\n",
    "\n",
    "#here \n",
    "phone_3 = \"421-8765\"\n",
    "\n",
    " \n",
    "# Good Luck"
   ]
  },
  {
   "cell_type": "markdown",
   "metadata": {},
   "source": [
    "## Matching Zero or more with the Star `*` \n",
    "The `*` means \"match zero or more\". It can occur any number of times and the match will be valid. \n",
    "\n",
    "Let's take our phone number again: \n"
   ]
  },
  {
   "cell_type": "code",
   "execution_count": 45,
   "metadata": {},
   "outputs": [
    {
     "name": "stdout",
     "output_type": "stream",
     "text": [
      "421-(017)-009-8765\n",
      "421-(017)-(015)-(102)-009-8765\n",
      "421-009-8765\n"
     ]
    }
   ],
   "source": [
    "import re \n",
    "\n",
    "phone_1 = \"421-(017)-009-8765\"\n",
    "\n",
    "phone_2 = \"421-(017)-(015)-(102)-009-8765\"\n",
    "\n",
    "phone_3 = \"421-009-8765\"\n",
    "\n",
    "phoneStarRegex = re.compile(r\"\\d{3}-(\\(\\d{3}\\)-)*\\d{3}-\\d{4}\")\n",
    "\n",
    "matchObject_1 = phoneStarRegex.search(phone_1)\n",
    "matchObject_2 = phoneStarRegex.search(phone_2)\n",
    "matchObject_3 = phoneStarRegex.search(phone_3) \n",
    "\n",
    "print(matchObject_1.group())\n",
    "print(matchObject_2.group())\n",
    "print(matchObject_3.group())\n"
   ]
  },
  {
   "cell_type": "markdown",
   "metadata": {},
   "source": [
    "## Matching One or More with the Plus\n",
    "The `+` means \"match one or more\". It works exactly like start `*` but one must be matched in order to pass. "
   ]
  },
  {
   "cell_type": "code",
   "execution_count": null,
   "metadata": {},
   "outputs": [],
   "source": [
    "# write an analogy from the * (what doesn't work? why?)\n"
   ]
  },
  {
   "cell_type": "markdown",
   "metadata": {},
   "source": [
    "## Matching characters with repetition \n",
    "We already used the `{}` in order to specify the repetition in `\\d{3}` for example. This could also be used for special characters.\n",
    "\n",
    "The regex `(Ho){3}` will for example match the string \"HoHoHo\" but not \"HoHoHoHoHo\" since there is 2 \"HoHo\" more.  \n",
    "So, instead of writting someting like `(Ho){3}|(Ho){4}|(Ho){5}`, we can just write `(Ho){3,5}`. It will match \"HoHoHo\", \"HoHoHoHo\", \"HoHoHoHoHo\". And like in list, you can leave the first or the second argument empty if you have an undefined **maximum** or **minimum** . For example  `(Ho){3,}` will match 3 or more \"Ho\" and `(Ho){,5}` will match zero to five \"Ho\". "
   ]
  },
  {
   "cell_type": "code",
   "execution_count": 46,
   "metadata": {},
   "outputs": [
    {
     "name": "stdout",
     "output_type": "stream",
     "text": [
      "HoHoHoHo\n",
      "HoHoHoHo\n"
     ]
    }
   ],
   "source": [
    "#the following syntaxes are equivalent \n",
    "\n",
    "reg_3 = re.compile(r'(Ho)(Ho)(Ho)|(Ho)(Ho)(Ho)(Ho)|(Ho)(Ho)(Ho)(Ho)(Ho)')\n",
    "reg_2 = re.compile(r'(Ho){5}|(Ho){4}|(Ho){3}?')\n",
    "reg_1 = re.compile(r'(Ho){3,5}') # greedy by default non-greedy: (with question mark) -->  r'(Ho){3,5}? \n",
    "\n",
    "sentence = \"HoHoHoHo\"\n",
    "mo = reg_1.search(sentence)\n",
    "print(mo.group())\n",
    "\n",
    "print(reg_1.search(\"HoHoHoHo\").group())"
   ]
  },
  {
   "cell_type": "markdown",
   "metadata": {},
   "source": [
    "## The`findall()` Method \n",
    "in addition to the `search()` method. The Regex object have another method called `findall()` method. The difference between search() and findall() is that *search()* returns a *Match object* of the **FIRST** matched text in the searched string and *findall()* returns the strings of **EVERY** match in the searched string. \n",
    "\n",
    "Let's take our phone number example again: \n"
   ]
  },
  {
   "cell_type": "code",
   "execution_count": 49,
   "metadata": {},
   "outputs": [
    {
     "name": "stdout",
     "output_type": "stream",
     "text": [
      "021-636-2906\n"
     ]
    }
   ],
   "source": [
    "import re \n",
    "\n",
    "message = \"Call me at 021-636-2906 (home) tomorrow. My office number is 021-666-4569!\"\n",
    "phoneRegex = re.compile(r'\\d{3}-\\d{3}-\\d{4}')\n",
    "\n",
    "#search only returns the first matched string\n",
    "# return a Match Object\n",
    "mo = phoneRegex.search(message)\n",
    "\n",
    "print(mo.group())\n"
   ]
  },
  {
   "cell_type": "markdown",
   "metadata": {},
   "source": [
    "*findall()* does not return a match object but a **list** of strings. "
   ]
  },
  {
   "cell_type": "code",
   "execution_count": 50,
   "metadata": {},
   "outputs": [
    {
     "name": "stdout",
     "output_type": "stream",
     "text": [
      "2\n",
      "['021-636-2906', '021-666-4569']\n"
     ]
    }
   ],
   "source": [
    "import re \n",
    "\n",
    "message = \"Call me at 021-636-2906 (home) tomorrow. My office number is 021-666-4569!\"\n",
    "phoneRegex = re.compile(r'\\d{3}-\\d{3}-\\d{4}')\n",
    "\n",
    "# findall() return a list of strings \n",
    "results = phoneRegex.findall(message)\n",
    "\n",
    "print(len(results))\n",
    "print(results)"
   ]
  },
  {
   "cell_type": "code",
   "execution_count": 53,
   "metadata": {},
   "outputs": [
    {
     "name": "stdout",
     "output_type": "stream",
     "text": [
      "2\n",
      "[('021', '636-2906'), ('021', '666-4569')]\n",
      "('021', '666-4569')\n"
     ]
    }
   ],
   "source": [
    "# if the pattern is groupped, findall() return a list of tupples \n",
    "import re \n",
    "\n",
    "message = \"Call me at 021-636-2906 (home) tomorrow. My office number is 021-666-4569!\"\n",
    "phoneRegex = re.compile(r'(\\d{3})-(\\d{3}-\\d{4})')\n",
    "\n",
    "# findall() return a list of strings \n",
    "results = phoneRegex.findall(message)\n",
    "\n",
    "print(len(results))\n",
    "print(results)\n",
    "print(results[1])"
   ]
  },
  {
   "cell_type": "markdown",
   "metadata": {},
   "source": [
    "# Character Classes\n",
    "We learned earlier that `\\d` stands for any numeric digit. It means, `\\d` is equivalent to `(0|1|2|3|4|5|6|7|8|9)` . There are many of such **shorthand character classes** in reges. Here is a list of them: \n",
    "\n",
    "| Shorthand character class        | Represents                                                                      |\n",
    "| -------------------------------- |:-------------------------------------------------------------------------------:|\n",
    "|\\d                                | Any numeric digit from 0 to 9.                                                  |\n",
    "|\\D                                | Any character that is not a numeric digit from 0 to 9.                          |\n",
    "|\\w                                | Any letter, numeric digit, or the underscore character.                         |\n",
    "|\\W                                | Any character that is not a letter, numeric digit, or the underscore character. |\n",
    "|\\s                                | Any space, tab, or newline character.                                           |\n",
    "|\\S                                | Any character that is not a space, tab, or newline.                             | \n",
    "\n",
    "\n",
    "Character classes are nice for shortening regular expressions. The character class `[0-5]` will match only the numbers 0 to 5 and it is much shorter than typing `(0|1|2|3|4|5)`. "
   ]
  },
  {
   "cell_type": "code",
   "execution_count": 54,
   "metadata": {},
   "outputs": [
    {
     "name": "stdout",
     "output_type": "stream",
     "text": [
      "['12 drummers', '11 pipers', '10 lords', '7 snowballs', '6 remote_controll', '5 rings', '4 birds', '3 cats', '2 doves', '1 tree']\n"
     ]
    }
   ],
   "source": [
    "# example? \n",
    "import re \n",
    "\n",
    "gifts = \"12 drummers for Mike, 11 pipers (from oncly Goerge), 10 lords (4$), 7 snowballs, 6 remote_controll, 5 rings, \\\n",
    "4 birds, 3 cats, 2 doves, 1 tree as a decoration\"\n",
    "\n",
    "christmasRegex = re.compile(r'\\d{1,2}\\s\\w+')\n",
    "\n",
    "gift_list = christmasRegex.findall(gifts)\n",
    "print(gift_list)"
   ]
  },
  {
   "cell_type": "markdown",
   "metadata": {},
   "source": [
    "## The Caret and Dollar Sign Characters\n",
    "You can also use the carret symbol `^` at the start of the regex to indicate that a match must occur at the **beginning** of the searched text. Likewise, you can put a dollar sign `$` at the end of the regex to indicate that the string must **end** with this regex pattern. "
   ]
  },
  {
   "cell_type": "code",
   "execution_count": null,
   "metadata": {},
   "outputs": [],
   "source": [
    "# Example \n",
    "import re\n",
    "fromGermany = re.compile(r'^\\+49')\n",
    "\n",
    "phoneNumberGermany = \"+491893876\"\n",
    "phoneNumberFrance = \"338876549\"\n",
    "\n",
    "res_1 = fromGermany.search(phoneNumberGermany)\n",
    "res_2 = fromGermany.search(phoneNumberFrance)\n",
    "\n",
    "print(res_1.group())"
   ]
  },
  {
   "cell_type": "code",
   "execution_count": null,
   "metadata": {},
   "outputs": [],
   "source": [
    "# A phrase should end with a dot or an exclamationmark or a question-mark \n",
    "import re \n",
    "completePhrase = re.compile(r'[.|!|?]$')\n",
    "sentence = \"Hello world?\"\n",
    "\n",
    "print(completePhrase.search(sentence).group())"
   ]
  },
  {
   "cell_type": "markdown",
   "metadata": {},
   "source": [
    "## The Wildcard Character\n",
    "The `.` (or dot) character in a regular expression is called a wildcard and will match any character except for a newline. \n",
    "\n",
    "PS: Dot `.` will match just one character. "
   ]
  },
  {
   "cell_type": "code",
   "execution_count": 56,
   "metadata": {},
   "outputs": [
    {
     "name": "stdout",
     "output_type": "stream",
     "text": [
      "[' cat', ' hat', ' sat', 'flat', ' mat']\n"
     ]
    }
   ],
   "source": [
    "import re \n",
    "\n",
    "atRegex = re.compile(r'.at') # notice flat\n",
    "\n",
    "sentence = \"The cat in the hat sat on the flat mat.\"\n",
    "\n",
    "res = atRegex.findall(sentence) \n",
    "\n",
    "print(res)"
   ]
  },
  {
   "cell_type": "markdown",
   "metadata": {},
   "source": [
    "# Utility? \n",
    "For creating a powerful regex, you can use tools like this website for example: \n",
    "\n",
    "[regexr](https://www.regexr.com)\n"
   ]
  },
  {
   "cell_type": "markdown",
   "metadata": {},
   "source": [
    "## Exercice Lab 1:\n",
    "Write a Python program that matches a string that has an __i__ followed by anything and ends with __z__. It should print \"Found a match\" or \"Did not found a match\" \n",
    "\n"
   ]
  },
  {
   "cell_type": "code",
   "execution_count": 1,
   "metadata": {},
   "outputs": [
    {
     "name": "stdout",
     "output_type": "stream",
     "text": [
      "Not matched!\n",
      "Not matched!\n",
      "Found a match!\n",
      "Found a match!\n"
     ]
    }
   ],
   "source": [
    "import re\n",
    "def text_match(text):\n",
    "        patterns = 'i.*?z$'\n",
    "        if re.search(patterns,  text):\n",
    "                return 'Found a match!'\n",
    "        else:\n",
    "                return('Not matched!')\n",
    "\n",
    "print(text_match(\"iizzzzd\"))\n",
    "print(text_match(\"iizAbbbc\"))\n",
    "print(text_match(\"iccddbbjjjz\"))\n",
    "print(text_match(\"ccddibbjjjz\"))\n",
    "\n"
   ]
  },
  {
   "cell_type": "markdown",
   "metadata": {},
   "source": [
    "## Exercice Lab 2: \n",
    "Write a Python program to check for a number at the end of a string. It should return True if there is a match, or false if there is no match. \n",
    "\n"
   ]
  },
  {
   "cell_type": "code",
   "execution_count": 2,
   "metadata": {},
   "outputs": [],
   "source": [
    "import re\n",
    "def end_num(string):\n",
    "    text = re.compile(r\".*[0-9]$\")\n",
    "    if text.match(string):\n",
    "        return True\n",
    "    else:\n",
    "        return False\n",
    "    \n"
   ]
  },
  {
   "cell_type": "code",
   "execution_count": 4,
   "metadata": {},
   "outputs": [
    {
     "name": "stdout",
     "output_type": "stream",
     "text": [
      "True\n"
     ]
    }
   ],
   "source": [
    "print(end_num(\"fddds124\"))"
   ]
  },
  {
   "cell_type": "markdown",
   "metadata": {},
   "source": [
    "## Exercice Lab 3: \n",
    "Write a function that extract year, month and date from an url. It should return the Year, Month and Date as a list.\n",
    "\n"
   ]
  },
  {
   "cell_type": "code",
   "execution_count": 2,
   "metadata": {},
   "outputs": [
    {
     "name": "stdout",
     "output_type": "stream",
     "text": [
      "[('2016', '09', '02')]\n"
     ]
    }
   ],
   "source": [
    "import re\n",
    "def extract_date(url):\n",
    "        return re.findall(r'/(\\d{4})/(\\d{1,2})/(\\d{1,2})/', url)\n",
    "url1= \"https://www.washingtonpost.com/news/football-insider/wp/2016/09/02/odell-beckhams-fame-rests-on-one-stupid-little-ball-josh-norman-tells-author/\"\n",
    "print(extract_date(url1))\n"
   ]
  },
  {
   "cell_type": "markdown",
   "metadata": {},
   "source": [
    "## Case-Insensitive Matching \n",
    "Normally, regular expression match text with the exact casing you specify. The following regex patterns match completely different strings: \n"
   ]
  },
  {
   "cell_type": "code",
   "execution_count": null,
   "metadata": {},
   "outputs": [],
   "source": [
    "regex1 = re.compile('Christmas')\n",
    "regex2 = re.compile('CHRISTMAS')\n",
    "regex3 = re.compile('CHRISTmas')\n",
    "regex4 = re.compile('christmas')"
   ]
  },
  {
   "cell_type": "markdown",
   "metadata": {},
   "source": [
    "In order to not care about case, you can pass the `re.IGNORECASE` or `re.I` as a second argument to `re.compile()` "
   ]
  },
  {
   "cell_type": "code",
   "execution_count": null,
   "metadata": {},
   "outputs": [],
   "source": [
    "regexChristmas = re.compile(r'christmas', re.IGNORECASE)\n",
    "sentence_1 = \"Christmas is comming! \"\n",
    "sentence_2 = \"I love CHRISTMAS, it's the best time of the year christmas.\"\n",
    "\n",
    "res = regexChristmas.findall(sentence_2) \n",
    "print(res)\n"
   ]
  }
 ],
 "metadata": {
  "kernelspec": {
   "display_name": "Python 3 (ipykernel)",
   "language": "python",
   "name": "python3"
  },
  "language_info": {
   "codemirror_mode": {
    "name": "ipython",
    "version": 3
   },
   "file_extension": ".py",
   "mimetype": "text/x-python",
   "name": "python",
   "nbconvert_exporter": "python",
   "pygments_lexer": "ipython3",
   "version": "3.9.7"
  }
 },
 "nbformat": 4,
 "nbformat_minor": 4
}
