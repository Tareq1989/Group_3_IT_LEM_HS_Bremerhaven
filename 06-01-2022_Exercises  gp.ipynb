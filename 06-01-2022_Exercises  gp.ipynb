{
 "cells": [
  {
   "cell_type": "markdown",
   "metadata": {},
   "source": [
    "# Homework "
   ]
  },
  {
   "cell_type": "markdown",
   "metadata": {},
   "source": [
    "## Problem 1\n",
    "Handle the exception thrown by the code below by using <code>try</code> and <code>except</code> blocks."
   ]
  },
  {
   "cell_type": "code",
   "execution_count": 1,
   "metadata": {},
   "outputs": [
    {
     "name": "stdout",
     "output_type": "stream",
     "text": [
      "Error: Cant Take power of string or character.\n",
      "Error: Cant Take power of string or character.\n",
      "Error: Cant Take power of string or character.\n"
     ]
    }
   ],
   "source": [
    "for i in ['a','b','c']:\n",
    "    \n",
    " try:\n",
    "    print(i**2)\n",
    "    \n",
    " except:\n",
    "    print('Error: Cant Take power of string or character.')"
   ]
  },
  {
   "cell_type": "markdown",
   "metadata": {},
   "source": [
    "## Problem 2\n",
    "Handle the exception thrown by the code below by using <code>try</code> and <code>except</code> blocks. Then use a <code>finally</code> block to print 'All Done.'"
   ]
  },
  {
   "cell_type": "code",
   "execution_count": 3,
   "metadata": {},
   "outputs": [
    {
     "name": "stdout",
     "output_type": "stream",
     "text": [
      "Unknown Error\n",
      "All Done\n"
     ]
    }
   ],
   "source": [
    "x = 5\n",
    "y = 0\n",
    "    \n",
    "try: \n",
    "    z = x/y\n",
    "except ZeroDivisionError:  \n",
    "    z = 0\n",
    "    print(\"Unknown Error\")\n",
    "finally:\n",
    "     print('All Done')"
   ]
  },
  {
   "cell_type": "markdown",
   "metadata": {},
   "source": [
    "## Problem 3\n",
    "Write a function called \"ask()\" that asks for an integer and prints the square of it. Use a <code>while</code> loop with a <code>try</code>, <code>except</code>, <code>else</code> block to account for incorrect inputs.\n",
    "\n",
    "An output could look like the following: \n",
    "\n",
    "```md\n",
    "Input an integer:  e\n",
    "An error occurred! Please try again!\n",
    "Input an integer:  t\n",
    "An error occurred! Please try again!\n",
    "Input an integer:  4.5\n",
    "An error occurred! Please try again!\n",
    "Input an integer:  4\n",
    "Thank you, your number squared is:  16\n",
    "```"
   ]
  },
  {
   "cell_type": "code",
   "execution_count": 7,
   "metadata": {},
   "outputs": [],
   "source": [
    "def ask():\n",
    "    while True:\n",
    "        try:\n",
    "            x = int(input('Input an integer: '))\n",
    "        except:\n",
    "            print('An error occured! Please try again!')\n",
    "        else:\n",
    "            print('Thank you, your number squared is: ',x**2)\n",
    "        break"
   ]
  },
  {
   "cell_type": "code",
   "execution_count": 10,
   "metadata": {},
   "outputs": [
    {
     "name": "stdout",
     "output_type": "stream",
     "text": [
      "Input an integer: e\n",
      "An error occured! Please try again!\n"
     ]
    }
   ],
   "source": [
    "ask(5)"
   ]
  },
  {
   "cell_type": "markdown",
   "metadata": {},
   "source": [
    "## Problem 4\n",
    "\n",
    "Write a python function called calc_avg(). The function does not take any parameter but should return a float number which should be the average of the entered points, the program should ask for 5 points from the user.\n",
    "\n",
    "- If the entered points is not a natural numnber between 0 and 20, a ValueError exception should be raised. \n",
    "- The program should print \"There was an error\" for any other kind of exception.\n",
    "\n",
    "\n",
    "```bash\n",
    "Output example 1:\n",
    "Add the first point: 25\n",
    "The entered point is not valid, it should be between 0 and 20 \n",
    "\n",
    "Output example 2:\n",
    "Add the 1. point 1: 12\n",
    "Add the 2. point: 13\n",
    "Add the 3. point: 15\n",
    "Add the 4. point: 14\n",
    "Add the 5. point: 16\n",
    "\n",
    "The average is : 14.00\n",
    "```\n",
    "\n"
   ]
  },
  {
   "cell_type": "code",
   "execution_count": 131,
   "metadata": {},
   "outputs": [],
   "source": [
    "def calc_avg():\n",
    "    total = 0\n",
    "    try:\n",
    "        for i in range (1,6):   \n",
    "            x = int(input(f'Add the {i}. point'))\n",
    "            if x>20 :\n",
    "                raise ValueError\n",
    "            total = total + x\n",
    "    except ValueError:\n",
    "        print('The entered point is not valid, it should be between 0 and 20')\n",
    "        return\n",
    "    \n",
    "    print(f'The average is : {total/5}')"
   ]
  },
  {
   "cell_type": "code",
   "execution_count": null,
   "metadata": {},
   "outputs": [],
   "source": [
    "calc_avg()\n"
   ]
  },
  {
   "cell_type": "code",
   "execution_count": null,
   "metadata": {},
   "outputs": [],
   "source": []
  },
  {
   "cell_type": "code",
   "execution_count": null,
   "metadata": {},
   "outputs": [],
   "source": []
  },
  {
   "cell_type": "code",
   "execution_count": null,
   "metadata": {},
   "outputs": [],
   "source": []
  }
 ],
 "metadata": {
  "kernelspec": {
   "display_name": "Python 3",
   "language": "python",
   "name": "python3"
  },
  "language_info": {
   "codemirror_mode": {
    "name": "ipython",
    "version": 3
   },
   "file_extension": ".py",
   "mimetype": "text/x-python",
   "name": "python",
   "nbconvert_exporter": "python",
   "pygments_lexer": "ipython3",
   "version": "3.8.8"
  }
 },
 "nbformat": 4,
 "nbformat_minor": 4
}
